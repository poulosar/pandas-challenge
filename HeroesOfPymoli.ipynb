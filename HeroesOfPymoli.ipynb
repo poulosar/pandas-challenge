{
 "cells": [
  {
   "cell_type": "markdown",
   "metadata": {},
   "source": [
    "### Note\n",
    "* Instructions have been included for each segment. You do not have to follow them exactly, but they are included to help you think through the steps."
   ]
  },
  {
   "cell_type": "code",
   "execution_count": 3,
   "metadata": {},
   "outputs": [
    {
     "data": {
      "text/plain": [
       "Purchase ID      int64\n",
       "SN              object\n",
       "Age              int64\n",
       "Gender          object\n",
       "Item ID          int64\n",
       "Item Name       object\n",
       "Price          float64\n",
       "dtype: object"
      ]
     },
     "execution_count": 3,
     "metadata": {},
     "output_type": "execute_result"
    }
   ],
   "source": [
    "# Dependencies and Setup\n",
    "import pandas as pd\n",
    "\n",
    "# setting file, reading and storing as a data_frame\n",
    "input = \"Resources/purchase_data.csv\"\n",
    "\n",
    "# importing csv\n",
    "purchase_data = pd.read_csv(input)"
   ]
  },
  {
   "cell_type": "markdown",
   "metadata": {},
   "source": [
    "## Player Count"
   ]
  },
  {
   "cell_type": "markdown",
   "metadata": {},
   "source": [
    "* Display the total number of players\n"
   ]
  },
  {
   "cell_type": "code",
   "execution_count": 4,
   "metadata": {},
   "outputs": [
    {
     "data": {
      "text/html": [
       "<style  type=\"text/css\" >\n",
       "</style><table id=\"T_64236e7a_d566_11eb_98d6_a434d9ba1c3c\" ><thead>    <tr>        <th class=\"col_heading level0 col0\" >Total Players</th>    </tr></thead><tbody>\n",
       "                <tr>\n",
       "                                <td id=\"T_64236e7a_d566_11eb_98d6_a434d9ba1c3crow0_col0\" class=\"data row0 col0\" >576</td>\n",
       "            </tr>\n",
       "    </tbody></table>"
      ],
      "text/plain": [
       "<pandas.io.formats.style.Styler at 0x238c13f7bc8>"
      ]
     },
     "execution_count": 4,
     "metadata": {},
     "output_type": "execute_result"
    }
   ],
   "source": [
    "# Uses current df to find unique SN's and save them to player_count_df. Then we find the length of the new df for total players\n",
    "# This removes all duplicate SN's\n",
    "player_count = len(purchase_data[\"SN\"].unique())\n",
    "\n",
    "#Creates total_players df with column \"Total Players\" with the player count above being the row data\n",
    "total_players_df = pd.DataFrame({\"Total Players\": [player_count]})\n",
    "#Prints df and hides index\n",
    "total_players_df.style.hide_index()"
   ]
  },
  {
   "cell_type": "markdown",
   "metadata": {},
   "source": [
    "## Purchasing Analysis (Total)"
   ]
  },
  {
   "cell_type": "markdown",
   "metadata": {},
   "source": [
    "* Run basic calculations to obtain number of unique items, average price, etc.\n",
    "\n",
    "\n",
    "* Create a summary data frame to hold the results\n",
    "\n",
    "\n",
    "* Optional: give the displayed data cleaner formatting\n",
    "\n",
    "\n",
    "* Display the summary data frame\n"
   ]
  },
  {
   "cell_type": "code",
   "execution_count": 5,
   "metadata": {},
   "outputs": [
    {
     "data": {
      "text/html": [
       "<style  type=\"text/css\" >\n",
       "</style><table id=\"T_642984dc_d566_11eb_99ad_a434d9ba1c3c\" ><thead>    <tr>        <th class=\"blank level0\" ></th>        <th class=\"col_heading level0 col0\" >Unique Items</th>        <th class=\"col_heading level0 col1\" >Average Price</th>        <th class=\"col_heading level0 col2\" >Average Age</th>        <th class=\"col_heading level0 col3\" >Most Popular Item</th>    </tr></thead><tbody>\n",
       "                <tr>\n",
       "                        <th id=\"T_642984dc_d566_11eb_99ad_a434d9ba1c3clevel0_row0\" class=\"row_heading level0 row0\" >0</th>\n",
       "                        <td id=\"T_642984dc_d566_11eb_99ad_a434d9ba1c3crow0_col0\" class=\"data row0 col0\" >179</td>\n",
       "                        <td id=\"T_642984dc_d566_11eb_99ad_a434d9ba1c3crow0_col1\" class=\"data row0 col1\" >$3.05</td>\n",
       "                        <td id=\"T_642984dc_d566_11eb_99ad_a434d9ba1c3crow0_col2\" class=\"data row0 col2\" >22.71</td>\n",
       "                        <td id=\"T_642984dc_d566_11eb_99ad_a434d9ba1c3crow0_col3\" class=\"data row0 col3\" >Final Critic</td>\n",
       "            </tr>\n",
       "    </tbody></table>"
      ],
      "text/plain": [
       "<pandas.io.formats.style.Styler at 0x238c4289e08>"
      ]
     },
     "execution_count": 5,
     "metadata": {},
     "output_type": "execute_result"
    }
   ],
   "source": [
    "# Number of unique items\n",
    "unique_items = len(purchase_data[\"Item Name\"].unique())\n",
    "int(unique_items)\n",
    "\n",
    "# Average price per item\n",
    "average_price = purchase_data[{\"Price\"}].mean()\n",
    "average_price\n",
    "average_price.reset_index(drop=True, inplace=True)\n",
    "\n",
    "# Average age\n",
    "average_age = purchase_data[{\"Age\"}].mean()\n",
    "average_age.reset_index(drop=True, inplace=True)\n",
    "\n",
    "# Most popular item(s)\n",
    "most_popular = purchase_data[\"Item Name\"].mode()\n",
    "most_popular\n",
    "\n",
    "#Table to sotre above info\n",
    "analysis_df = pd.DataFrame({\"Unique Items\": unique_items, \"Average Price\": average_price,\n",
    "                            \"Average Age\": average_age, \"Most Popular Item\": most_popular})\n",
    "#Set all float values to 2 decimal places\n",
    "pd.options.display.float_format = \"{:,.2f}\".format\n",
    "analysis_df.style.format({'Average Price': \"${:.3}\", 'Average Age': '{:.2f}'})\n"
   ]
  },
  {
   "cell_type": "markdown",
   "metadata": {},
   "source": [
    "## Gender Demographics"
   ]
  },
  {
   "cell_type": "markdown",
   "metadata": {},
   "source": [
    "* Percentage and Count of Male Players\n",
    "\n",
    "\n",
    "* Percentage and Count of Female Players\n",
    "\n",
    "\n",
    "* Percentage and Count of Other / Non-Disclosed\n",
    "\n",
    "\n"
   ]
  },
  {
   "cell_type": "code",
   "execution_count": 6,
   "metadata": {},
   "outputs": [
    {
     "data": {
      "text/html": [
       "<style  type=\"text/css\" >\n",
       "</style><table id=\"T_64a29d92_d566_11eb_b3ab_a434d9ba1c3c\" ><thead>    <tr>        <th class=\"blank level0\" ></th>        <th class=\"col_heading level0 col0\" >Gender</th>        <th class=\"col_heading level0 col1\" >Total of Gender</th>        <th class=\"col_heading level0 col2\" >Percentage</th>    </tr></thead><tbody>\n",
       "                <tr>\n",
       "                        <th id=\"T_64a29d92_d566_11eb_b3ab_a434d9ba1c3clevel0_row0\" class=\"row_heading level0 row0\" >0</th>\n",
       "                        <td id=\"T_64a29d92_d566_11eb_b3ab_a434d9ba1c3crow0_col0\" class=\"data row0 col0\" >Male</td>\n",
       "                        <td id=\"T_64a29d92_d566_11eb_b3ab_a434d9ba1c3crow0_col1\" class=\"data row0 col1\" >484</td>\n",
       "                        <td id=\"T_64a29d92_d566_11eb_b3ab_a434d9ba1c3crow0_col2\" class=\"data row0 col2\" >84.03%</td>\n",
       "            </tr>\n",
       "            <tr>\n",
       "                        <th id=\"T_64a29d92_d566_11eb_b3ab_a434d9ba1c3clevel0_row1\" class=\"row_heading level0 row1\" >1</th>\n",
       "                        <td id=\"T_64a29d92_d566_11eb_b3ab_a434d9ba1c3crow1_col0\" class=\"data row1 col0\" >Female</td>\n",
       "                        <td id=\"T_64a29d92_d566_11eb_b3ab_a434d9ba1c3crow1_col1\" class=\"data row1 col1\" >81</td>\n",
       "                        <td id=\"T_64a29d92_d566_11eb_b3ab_a434d9ba1c3crow1_col2\" class=\"data row1 col2\" >14.06%</td>\n",
       "            </tr>\n",
       "            <tr>\n",
       "                        <th id=\"T_64a29d92_d566_11eb_b3ab_a434d9ba1c3clevel0_row2\" class=\"row_heading level0 row2\" >2</th>\n",
       "                        <td id=\"T_64a29d92_d566_11eb_b3ab_a434d9ba1c3crow2_col0\" class=\"data row2 col0\" >Other / Non-Disclosed</td>\n",
       "                        <td id=\"T_64a29d92_d566_11eb_b3ab_a434d9ba1c3crow2_col1\" class=\"data row2 col1\" >11</td>\n",
       "                        <td id=\"T_64a29d92_d566_11eb_b3ab_a434d9ba1c3crow2_col2\" class=\"data row2 col2\" >1.91%</td>\n",
       "            </tr>\n",
       "    </tbody></table>"
      ],
      "text/plain": [
       "<pandas.io.formats.style.Styler at 0x238c42d0788>"
      ]
     },
     "execution_count": 6,
     "metadata": {},
     "output_type": "execute_result"
    }
   ],
   "source": [
    "# Percentage and Count of Males\n",
    "males = purchase_data.loc[purchase_data[\"Gender\"] == \"Male\", :]\n",
    "male_count = len(males[\"SN\"].unique())\n",
    "male_percentage = (male_count/player_count*100)\n",
    "male_percentage\n",
    "\n",
    "females = purchase_data.loc[purchase_data[\"Gender\"] == \"Female\", :]\n",
    "female_count = len(females[\"SN\"].unique())\n",
    "female_percentage = (female_count/player_count*100)\n",
    "female_percentage\n",
    "\n",
    "other = purchase_data.loc[purchase_data[\"Gender\"] == \"Other / Non-Disclosed\", :]\n",
    "other_count = len(other[\"SN\"].unique())\n",
    "other_percentage = ((other_count/player_count)*100)\n",
    "other_percentage\n",
    "\n",
    "gender_demographic = pd.DataFrame({\"Gender\": [\"Male\",\"Female\",\"Other / Non-Disclosed\"],\n",
    "                                   \"Total of Gender\": [male_count, female_count, other_count] , \n",
    "                                   \"Percentage\": [male_percentage, female_percentage, other_percentage]})\n",
    "gender_demographic.style.format({'Percentage': \"{:.4}%\"})\n"
   ]
  },
  {
   "cell_type": "markdown",
   "metadata": {},
   "source": [
    "\n",
    "## Purchasing Analysis (Gender)"
   ]
  },
  {
   "cell_type": "markdown",
   "metadata": {},
   "source": [
    "* Run basic calculations to obtain purchase count, avg. purchase price, avg. purchase total per person etc. by gender\n",
    "\n",
    "\n",
    "\n",
    "\n",
    "* Create a summary data frame to hold the results\n",
    "\n",
    "\n",
    "* Optional: give the displayed data cleaner formatting\n",
    "\n",
    "\n",
    "* Display the summary data frame"
   ]
  },
  {
   "cell_type": "code",
   "execution_count": 7,
   "metadata": {},
   "outputs": [
    {
     "data": {
      "text/html": [
       "<style  type=\"text/css\" >\n",
       "</style><table id=\"T_650cdcf8_d566_11eb_85ac_a434d9ba1c3c\" ><thead>    <tr>        <th class=\"blank level0\" ></th>        <th class=\"col_heading level0 col0\" >Gender</th>        <th class=\"col_heading level0 col1\" >Purchase Count</th>        <th class=\"col_heading level0 col2\" >Average Purchase Price</th>        <th class=\"col_heading level0 col3\" >Total Purchase Value</th>        <th class=\"col_heading level0 col4\" >Avg Purchase per Person</th>    </tr></thead><tbody>\n",
       "                <tr>\n",
       "                        <th id=\"T_650cdcf8_d566_11eb_85ac_a434d9ba1c3clevel0_row0\" class=\"row_heading level0 row0\" >1</th>\n",
       "                        <td id=\"T_650cdcf8_d566_11eb_85ac_a434d9ba1c3crow0_col0\" class=\"data row0 col0\" >Female</td>\n",
       "                        <td id=\"T_650cdcf8_d566_11eb_85ac_a434d9ba1c3crow0_col1\" class=\"data row0 col1\" >113</td>\n",
       "                        <td id=\"T_650cdcf8_d566_11eb_85ac_a434d9ba1c3crow0_col2\" class=\"data row0 col2\" >$3.20</td>\n",
       "                        <td id=\"T_650cdcf8_d566_11eb_85ac_a434d9ba1c3crow0_col3\" class=\"data row0 col3\" >$361.94</td>\n",
       "                        <td id=\"T_650cdcf8_d566_11eb_85ac_a434d9ba1c3crow0_col4\" class=\"data row0 col4\" >$4.47</td>\n",
       "            </tr>\n",
       "            <tr>\n",
       "                        <th id=\"T_650cdcf8_d566_11eb_85ac_a434d9ba1c3clevel0_row1\" class=\"row_heading level0 row1\" >0</th>\n",
       "                        <td id=\"T_650cdcf8_d566_11eb_85ac_a434d9ba1c3crow1_col0\" class=\"data row1 col0\" >Male</td>\n",
       "                        <td id=\"T_650cdcf8_d566_11eb_85ac_a434d9ba1c3crow1_col1\" class=\"data row1 col1\" >652</td>\n",
       "                        <td id=\"T_650cdcf8_d566_11eb_85ac_a434d9ba1c3crow1_col2\" class=\"data row1 col2\" >$3.02</td>\n",
       "                        <td id=\"T_650cdcf8_d566_11eb_85ac_a434d9ba1c3crow1_col3\" class=\"data row1 col3\" >$1967.64</td>\n",
       "                        <td id=\"T_650cdcf8_d566_11eb_85ac_a434d9ba1c3crow1_col4\" class=\"data row1 col4\" >$4.07</td>\n",
       "            </tr>\n",
       "            <tr>\n",
       "                        <th id=\"T_650cdcf8_d566_11eb_85ac_a434d9ba1c3clevel0_row2\" class=\"row_heading level0 row2\" >2</th>\n",
       "                        <td id=\"T_650cdcf8_d566_11eb_85ac_a434d9ba1c3crow2_col0\" class=\"data row2 col0\" >Other / Non-Disclosed</td>\n",
       "                        <td id=\"T_650cdcf8_d566_11eb_85ac_a434d9ba1c3crow2_col1\" class=\"data row2 col1\" >15</td>\n",
       "                        <td id=\"T_650cdcf8_d566_11eb_85ac_a434d9ba1c3crow2_col2\" class=\"data row2 col2\" >$3.35</td>\n",
       "                        <td id=\"T_650cdcf8_d566_11eb_85ac_a434d9ba1c3crow2_col3\" class=\"data row2 col3\" >$50.19</td>\n",
       "                        <td id=\"T_650cdcf8_d566_11eb_85ac_a434d9ba1c3crow2_col4\" class=\"data row2 col4\" >$4.56</td>\n",
       "            </tr>\n",
       "    </tbody></table>"
      ],
      "text/plain": [
       "<pandas.io.formats.style.Styler at 0x238c0418208>"
      ]
     },
     "execution_count": 7,
     "metadata": {},
     "output_type": "execute_result"
    }
   ],
   "source": [
    "# Male, Female, and other gender purchase counts\n",
    "male_purchase = purchase_data.loc[purchase_data[\"Gender\"] == \"Male\"]\n",
    "purchase_count_male = len(male_purchase)\n",
    "\n",
    "female_purchase = purchase_data.loc[purchase_data[\"Gender\"] == \"Female\"]\n",
    "purchase_count_female = len(female_purchase)\n",
    "\n",
    "other_purchase = purchase_data.loc[purchase_data[\"Gender\"] == \"Other / Non-Disclosed\"]\n",
    "purchase_count_other = len(other_purchase)\n",
    "\n",
    "#Male, Female, and other gender avg. purchase price (Total amount / total products) - PER GENDER\n",
    "male_purchase_price = purchase_data.loc[purchase_data[\"Gender\"] == \"Male\", [\"Price\"]]\n",
    "male_avg_purchase = float(male_purchase_price.sum()/purchase_count_male)\n",
    "\n",
    "female_purchase_price = purchase_data.loc[purchase_data[\"Gender\"] == \"Female\", [\"Price\"]]\n",
    "female_avg_purchase = float(female_purchase_price.sum()/purchase_count_female)\n",
    "\n",
    "other_purchase_price = purchase_data.loc[purchase_data[\"Gender\"] == \"Other / Non-Disclosed\", [\"Price\"]]\n",
    "other_avg_purchase = float(other_purchase_price.sum()/purchase_count_other)\n",
    "other_avg_purchase\n",
    "\n",
    "# Male, Female, and Other gender purchase per person \"pp\"\n",
    "male_purchase_pp = male_purchase_price.sum() / male_count\n",
    "female_purchase_pp = female_purchase_price.sum() / female_count\n",
    "other_purchase_pp = other_purchase_price.sum() / other_count\n",
    "\n",
    "# Creating dataframe with correct columns and data, will sort and format later\n",
    "gender_purchase_analysis = pd.DataFrame({\"Gender\": [\"Male\",\"Female\",\"Other / Non-Disclosed\"],\n",
    "                                    \"Purchase Count\": [purchase_count_male, purchase_count_female, purchase_count_other],\n",
    "                                    \"Average Purchase Price\": [male_avg_purchase, female_avg_purchase, other_avg_purchase],\n",
    "                                    \"Total Purchase Value\": [float(male_purchase_price.sum()), float(female_purchase_price.sum()), float(other_purchase_price.sum())],\n",
    "                                    \"Avg Purchase per Person\": [float(male_purchase_pp), float(female_purchase_pp), float(other_purchase_pp)]})\n",
    "# Sorted by Average purchase price per person.\n",
    "gender_purchase_analysis = gender_purchase_analysis.sort_values(\"Gender\", ascending=True)\n",
    "gender_purchase_analysis.style.format({'Average Purchase Price': \"${:.2f}\".format, 'Total Purchase Value': \"${:.2f}\".format, \"Avg Purchase per Person\": \"${:.2f}\".format })"
   ]
  },
  {
   "cell_type": "markdown",
   "metadata": {},
   "source": [
    "\n",
    "## Age Demographics"
   ]
  },
  {
   "cell_type": "markdown",
   "metadata": {},
   "source": [
    "* Establish bins for ages\n",
    "\n",
    "\n",
    "* Categorize the existing players using the age bins. Hint: use pd.cut()\n",
    "\n",
    "\n",
    "* Calculate the numbers and percentages by age group\n",
    "\n",
    "\n",
    "* Create a summary data frame to hold the results\n",
    "\n",
    "\n",
    "* Optional: round the percentage column to two decimal points\n",
    "\n",
    "\n",
    "* Display Age Demographics Table\n"
   ]
  },
  {
   "cell_type": "code",
   "execution_count": 8,
   "metadata": {},
   "outputs": [
    {
     "data": {
      "text/html": [
       "<style  type=\"text/css\" >\n",
       "</style><table id=\"T_6568f150_d566_11eb_a965_a434d9ba1c3c\" ><thead>    <tr>        <th class=\"blank level0\" ></th>        <th class=\"col_heading level0 col0\" >Total Count</th>        <th class=\"col_heading level0 col1\" >Percentage of Players</th>    </tr>    <tr>        <th class=\"index_name level0\" >Age Range Count</th>        <th class=\"blank\" ></th>        <th class=\"blank\" ></th>    </tr></thead><tbody>\n",
       "                <tr>\n",
       "                        <th id=\"T_6568f150_d566_11eb_a965_a434d9ba1c3clevel0_row0\" class=\"row_heading level0 row0\" ><10</th>\n",
       "                        <td id=\"T_6568f150_d566_11eb_a965_a434d9ba1c3crow0_col0\" class=\"data row0 col0\" >17</td>\n",
       "                        <td id=\"T_6568f150_d566_11eb_a965_a434d9ba1c3crow0_col1\" class=\"data row0 col1\" >2.95%</td>\n",
       "            </tr>\n",
       "            <tr>\n",
       "                        <th id=\"T_6568f150_d566_11eb_a965_a434d9ba1c3clevel0_row1\" class=\"row_heading level0 row1\" >10-14</th>\n",
       "                        <td id=\"T_6568f150_d566_11eb_a965_a434d9ba1c3crow1_col0\" class=\"data row1 col0\" >22</td>\n",
       "                        <td id=\"T_6568f150_d566_11eb_a965_a434d9ba1c3crow1_col1\" class=\"data row1 col1\" >3.82%</td>\n",
       "            </tr>\n",
       "            <tr>\n",
       "                        <th id=\"T_6568f150_d566_11eb_a965_a434d9ba1c3clevel0_row2\" class=\"row_heading level0 row2\" >15-19</th>\n",
       "                        <td id=\"T_6568f150_d566_11eb_a965_a434d9ba1c3crow2_col0\" class=\"data row2 col0\" >107</td>\n",
       "                        <td id=\"T_6568f150_d566_11eb_a965_a434d9ba1c3crow2_col1\" class=\"data row2 col1\" >18.58%</td>\n",
       "            </tr>\n",
       "            <tr>\n",
       "                        <th id=\"T_6568f150_d566_11eb_a965_a434d9ba1c3clevel0_row3\" class=\"row_heading level0 row3\" >20-24</th>\n",
       "                        <td id=\"T_6568f150_d566_11eb_a965_a434d9ba1c3crow3_col0\" class=\"data row3 col0\" >258</td>\n",
       "                        <td id=\"T_6568f150_d566_11eb_a965_a434d9ba1c3crow3_col1\" class=\"data row3 col1\" >44.79%</td>\n",
       "            </tr>\n",
       "            <tr>\n",
       "                        <th id=\"T_6568f150_d566_11eb_a965_a434d9ba1c3clevel0_row4\" class=\"row_heading level0 row4\" >25-29</th>\n",
       "                        <td id=\"T_6568f150_d566_11eb_a965_a434d9ba1c3crow4_col0\" class=\"data row4 col0\" >77</td>\n",
       "                        <td id=\"T_6568f150_d566_11eb_a965_a434d9ba1c3crow4_col1\" class=\"data row4 col1\" >13.37%</td>\n",
       "            </tr>\n",
       "            <tr>\n",
       "                        <th id=\"T_6568f150_d566_11eb_a965_a434d9ba1c3clevel0_row5\" class=\"row_heading level0 row5\" >30-34</th>\n",
       "                        <td id=\"T_6568f150_d566_11eb_a965_a434d9ba1c3crow5_col0\" class=\"data row5 col0\" >52</td>\n",
       "                        <td id=\"T_6568f150_d566_11eb_a965_a434d9ba1c3crow5_col1\" class=\"data row5 col1\" >9.03%</td>\n",
       "            </tr>\n",
       "            <tr>\n",
       "                        <th id=\"T_6568f150_d566_11eb_a965_a434d9ba1c3clevel0_row6\" class=\"row_heading level0 row6\" >35-39</th>\n",
       "                        <td id=\"T_6568f150_d566_11eb_a965_a434d9ba1c3crow6_col0\" class=\"data row6 col0\" >31</td>\n",
       "                        <td id=\"T_6568f150_d566_11eb_a965_a434d9ba1c3crow6_col1\" class=\"data row6 col1\" >5.38%</td>\n",
       "            </tr>\n",
       "            <tr>\n",
       "                        <th id=\"T_6568f150_d566_11eb_a965_a434d9ba1c3clevel0_row7\" class=\"row_heading level0 row7\" >40+</th>\n",
       "                        <td id=\"T_6568f150_d566_11eb_a965_a434d9ba1c3crow7_col0\" class=\"data row7 col0\" >12</td>\n",
       "                        <td id=\"T_6568f150_d566_11eb_a965_a434d9ba1c3crow7_col1\" class=\"data row7 col1\" >2.08%</td>\n",
       "            </tr>\n",
       "    </tbody></table>"
      ],
      "text/plain": [
       "<pandas.io.formats.style.Styler at 0x238c42d7b88>"
      ]
     },
     "execution_count": 8,
     "metadata": {},
     "output_type": "execute_result"
    }
   ],
   "source": [
    "# Finding max value, min will be 0 for this\n",
    "purchase_data[\"Age\"].max()\n",
    "purchase_data[\"Age\"].min()\n",
    "\n",
    "#Creating bins\n",
    "bins = [0,9,14,19,24,29,34,39,49]\n",
    "\n",
    "# Creating labels\n",
    "age_groups = [\"<10\", \"10-14\", \"15-19\", \"20-24\", \"25-29\", \"30-34\", \"35-39\", \"40+\"]\n",
    "\n",
    "# Adding \"Age Range Count\" to the purchase_data df\n",
    "purchase_data[\"Age Range Count\"] = pd.cut(purchase_data[\"Age\"], bins = bins, labels=age_groups, include_lowest=True)\n",
    "purchase_data.head()\n",
    "\n",
    "# Groupby Age\n",
    "age_group = purchase_data.groupby(\"Age Range Count\")\n",
    "\n",
    "# Count players in each age range, not including duplicates\n",
    "total_count_age = age_group[\"SN\"].nunique()\n",
    "\n",
    "#Calculation for % of players at the age\n",
    "age_percentage = (total_count_age / player_count)*100\n",
    "age_percentage\n",
    "# Creating data frame with necessary columns\n",
    "age_demographics_df = pd.DataFrame({\"Total Count\": total_count_age,\n",
    "                                    \"Percentage of Players\": age_percentage})\n",
    "\n",
    "# Formating df\n",
    "age_demographics_df.style.format({'Percentage of Players': \"{:.2f}%\".format})"
   ]
  },
  {
   "cell_type": "markdown",
   "metadata": {},
   "source": [
    "## Purchasing Analysis (Age)"
   ]
  },
  {
   "cell_type": "markdown",
   "metadata": {},
   "source": [
    "* Bin the purchase_data data frame by age\n",
    "\n",
    "\n",
    "* Run basic calculations to obtain purchase count, avg. purchase price, avg. purchase total per person etc. in the table below\n",
    "\n",
    "\n",
    "* Create a summary data frame to hold the results\n",
    "\n",
    "\n",
    "* Optional: give the displayed data cleaner formatting\n",
    "\n",
    "\n",
    "* Display the summary data frame"
   ]
  },
  {
   "cell_type": "code",
   "execution_count": 9,
   "metadata": {},
   "outputs": [
    {
     "data": {
      "text/html": [
       "<style  type=\"text/css\" >\n",
       "</style><table id=\"T_65c550a6_d566_11eb_909c_a434d9ba1c3c\" ><thead>    <tr>        <th class=\"blank level0\" ></th>        <th class=\"col_heading level0 col0\" >Purchase Count</th>        <th class=\"col_heading level0 col1\" >Average Purchase Price</th>        <th class=\"col_heading level0 col2\" >Total Purchase Value</th>        <th class=\"col_heading level0 col3\" >Avg Total Purchase PP</th>    </tr>    <tr>        <th class=\"index_name level0\" >Age Range Count</th>        <th class=\"blank\" ></th>        <th class=\"blank\" ></th>        <th class=\"blank\" ></th>        <th class=\"blank\" ></th>    </tr></thead><tbody>\n",
       "                <tr>\n",
       "                        <th id=\"T_65c550a6_d566_11eb_909c_a434d9ba1c3clevel0_row0\" class=\"row_heading level0 row0\" ><10</th>\n",
       "                        <td id=\"T_65c550a6_d566_11eb_909c_a434d9ba1c3crow0_col0\" class=\"data row0 col0\" >23</td>\n",
       "                        <td id=\"T_65c550a6_d566_11eb_909c_a434d9ba1c3crow0_col1\" class=\"data row0 col1\" >$3.35</td>\n",
       "                        <td id=\"T_65c550a6_d566_11eb_909c_a434d9ba1c3crow0_col2\" class=\"data row0 col2\" >$77.13</td>\n",
       "                        <td id=\"T_65c550a6_d566_11eb_909c_a434d9ba1c3crow0_col3\" class=\"data row0 col3\" >$4.54</td>\n",
       "            </tr>\n",
       "            <tr>\n",
       "                        <th id=\"T_65c550a6_d566_11eb_909c_a434d9ba1c3clevel0_row1\" class=\"row_heading level0 row1\" >10-14</th>\n",
       "                        <td id=\"T_65c550a6_d566_11eb_909c_a434d9ba1c3crow1_col0\" class=\"data row1 col0\" >28</td>\n",
       "                        <td id=\"T_65c550a6_d566_11eb_909c_a434d9ba1c3crow1_col1\" class=\"data row1 col1\" >$2.96</td>\n",
       "                        <td id=\"T_65c550a6_d566_11eb_909c_a434d9ba1c3crow1_col2\" class=\"data row1 col2\" >$82.78</td>\n",
       "                        <td id=\"T_65c550a6_d566_11eb_909c_a434d9ba1c3crow1_col3\" class=\"data row1 col3\" >$3.76</td>\n",
       "            </tr>\n",
       "            <tr>\n",
       "                        <th id=\"T_65c550a6_d566_11eb_909c_a434d9ba1c3clevel0_row2\" class=\"row_heading level0 row2\" >15-19</th>\n",
       "                        <td id=\"T_65c550a6_d566_11eb_909c_a434d9ba1c3crow2_col0\" class=\"data row2 col0\" >136</td>\n",
       "                        <td id=\"T_65c550a6_d566_11eb_909c_a434d9ba1c3crow2_col1\" class=\"data row2 col1\" >$3.04</td>\n",
       "                        <td id=\"T_65c550a6_d566_11eb_909c_a434d9ba1c3crow2_col2\" class=\"data row2 col2\" >$412.89</td>\n",
       "                        <td id=\"T_65c550a6_d566_11eb_909c_a434d9ba1c3crow2_col3\" class=\"data row2 col3\" >$3.86</td>\n",
       "            </tr>\n",
       "            <tr>\n",
       "                        <th id=\"T_65c550a6_d566_11eb_909c_a434d9ba1c3clevel0_row3\" class=\"row_heading level0 row3\" >20-24</th>\n",
       "                        <td id=\"T_65c550a6_d566_11eb_909c_a434d9ba1c3crow3_col0\" class=\"data row3 col0\" >365</td>\n",
       "                        <td id=\"T_65c550a6_d566_11eb_909c_a434d9ba1c3crow3_col1\" class=\"data row3 col1\" >$3.05</td>\n",
       "                        <td id=\"T_65c550a6_d566_11eb_909c_a434d9ba1c3crow3_col2\" class=\"data row3 col2\" >$1114.06</td>\n",
       "                        <td id=\"T_65c550a6_d566_11eb_909c_a434d9ba1c3crow3_col3\" class=\"data row3 col3\" >$4.32</td>\n",
       "            </tr>\n",
       "            <tr>\n",
       "                        <th id=\"T_65c550a6_d566_11eb_909c_a434d9ba1c3clevel0_row4\" class=\"row_heading level0 row4\" >25-29</th>\n",
       "                        <td id=\"T_65c550a6_d566_11eb_909c_a434d9ba1c3crow4_col0\" class=\"data row4 col0\" >101</td>\n",
       "                        <td id=\"T_65c550a6_d566_11eb_909c_a434d9ba1c3crow4_col1\" class=\"data row4 col1\" >$2.90</td>\n",
       "                        <td id=\"T_65c550a6_d566_11eb_909c_a434d9ba1c3crow4_col2\" class=\"data row4 col2\" >$293.00</td>\n",
       "                        <td id=\"T_65c550a6_d566_11eb_909c_a434d9ba1c3crow4_col3\" class=\"data row4 col3\" >$3.81</td>\n",
       "            </tr>\n",
       "            <tr>\n",
       "                        <th id=\"T_65c550a6_d566_11eb_909c_a434d9ba1c3clevel0_row5\" class=\"row_heading level0 row5\" >30-34</th>\n",
       "                        <td id=\"T_65c550a6_d566_11eb_909c_a434d9ba1c3crow5_col0\" class=\"data row5 col0\" >73</td>\n",
       "                        <td id=\"T_65c550a6_d566_11eb_909c_a434d9ba1c3crow5_col1\" class=\"data row5 col1\" >$2.93</td>\n",
       "                        <td id=\"T_65c550a6_d566_11eb_909c_a434d9ba1c3crow5_col2\" class=\"data row5 col2\" >$214.00</td>\n",
       "                        <td id=\"T_65c550a6_d566_11eb_909c_a434d9ba1c3crow5_col3\" class=\"data row5 col3\" >$4.12</td>\n",
       "            </tr>\n",
       "            <tr>\n",
       "                        <th id=\"T_65c550a6_d566_11eb_909c_a434d9ba1c3clevel0_row6\" class=\"row_heading level0 row6\" >35-39</th>\n",
       "                        <td id=\"T_65c550a6_d566_11eb_909c_a434d9ba1c3crow6_col0\" class=\"data row6 col0\" >41</td>\n",
       "                        <td id=\"T_65c550a6_d566_11eb_909c_a434d9ba1c3crow6_col1\" class=\"data row6 col1\" >$3.60</td>\n",
       "                        <td id=\"T_65c550a6_d566_11eb_909c_a434d9ba1c3crow6_col2\" class=\"data row6 col2\" >$147.67</td>\n",
       "                        <td id=\"T_65c550a6_d566_11eb_909c_a434d9ba1c3crow6_col3\" class=\"data row6 col3\" >$4.76</td>\n",
       "            </tr>\n",
       "            <tr>\n",
       "                        <th id=\"T_65c550a6_d566_11eb_909c_a434d9ba1c3clevel0_row7\" class=\"row_heading level0 row7\" >40+</th>\n",
       "                        <td id=\"T_65c550a6_d566_11eb_909c_a434d9ba1c3crow7_col0\" class=\"data row7 col0\" >13</td>\n",
       "                        <td id=\"T_65c550a6_d566_11eb_909c_a434d9ba1c3crow7_col1\" class=\"data row7 col1\" >$2.94</td>\n",
       "                        <td id=\"T_65c550a6_d566_11eb_909c_a434d9ba1c3crow7_col2\" class=\"data row7 col2\" >$38.24</td>\n",
       "                        <td id=\"T_65c550a6_d566_11eb_909c_a434d9ba1c3crow7_col3\" class=\"data row7 col3\" >$3.19</td>\n",
       "            </tr>\n",
       "    </tbody></table>"
      ],
      "text/plain": [
       "<pandas.io.formats.style.Styler at 0x238c42d75c8>"
      ]
     },
     "execution_count": 9,
     "metadata": {},
     "output_type": "execute_result"
    }
   ],
   "source": [
    "#Creating bins\n",
    "bins = [0,9,14,19,24,29,34,39,49]\n",
    "# Creating labels\n",
    "age_groups = [\"<10\", \"10-14\", \"15-19\", \"20-24\", \"25-29\", \"30-34\", \"35-39\", \"40+\"]\n",
    "\n",
    "age_group = purchase_data.groupby(\"Age Range Count\")\n",
    "\n",
    "# Adding \"Age Range Count\" to the purchase_data df\n",
    "purchase_data[\"Age Range Count\"] = pd.cut(purchase_data[\"Age\"], bins = bins, labels=age_groups, include_lowest=True)\n",
    "\n",
    "# purchase count\n",
    "purchase_count = age_group[\"SN\"].count()\n",
    "\n",
    "# total purchase value\n",
    "total_purchase_value = age_group[\"Price\"].sum()\n",
    "\n",
    "# avg. purchase price\n",
    "avg_purchase_price = total_purchase_value / purchase_count\n",
    "\n",
    "\n",
    "# avg. purchase total per person\n",
    "avg_purchase_total_pp = (total_purchase_value / age_group[\"SN\"].nunique())\n",
    "\n",
    "# Creating data frame to store and format\n",
    "purchase_analysis_age=  pd.DataFrame({\"Purchase Count\": purchase_count,\n",
    "                                    \"Average Purchase Price\": avg_purchase_price,\n",
    "                                      \"Total Purchase Value\": total_purchase_value ,\n",
    "                                      \"Avg Total Purchase PP\": avg_purchase_total_pp})\n",
    "purchase_analysis_age.style.format({'Average Purchase Price': \"${:.2f}\".format,\n",
    "                                   'Total Purchase Value':\"${:.2f}\".format,\n",
    "                                   'Avg Total Purchase PP': \"${:.2f}\".format})\n"
   ]
  },
  {
   "cell_type": "markdown",
   "metadata": {},
   "source": [
    "## Top Spenders"
   ]
  },
  {
   "cell_type": "markdown",
   "metadata": {},
   "source": [
    "* Run basic calculations to obtain the results in the table below\n",
    "\n",
    "\n",
    "* Create a summary data frame to hold the results\n",
    "\n",
    "\n",
    "* Sort the total purchase value column in descending order\n",
    "\n",
    "\n",
    "* Optional: give the displayed data cleaner formatting\n",
    "\n",
    "\n",
    "* Display a preview of the summary data frame\n",
    "\n"
   ]
  },
  {
   "cell_type": "code",
   "execution_count": 74,
   "metadata": {},
   "outputs": [
    {
     "data": {
      "text/plain": [
       "SN\n",
       "Adairialis76    2.28\n",
       "Adastirin33     4.48\n",
       "Aeda94          4.91\n",
       "Aela59          4.32\n",
       "Aelaria33       1.79\n",
       "                ... \n",
       "Yathecal82      6.22\n",
       "Yathedeu43      6.02\n",
       "Yoishirrala98   4.58\n",
       "Zhisrisu83      7.89\n",
       "Zontibe81       8.03\n",
       "Name: Price, Length: 576, dtype: float64"
      ]
     },
     "execution_count": 74,
     "metadata": {},
     "output_type": "execute_result"
    }
   ],
   "source": [
    "#purchase_count \"per screen name\"(psn)\n",
    "purchase_count_group =  purchase_data.groupby(\"SN\")\n",
    "purchase_count_psn = purchase_count_group[\"SN\"].count()\n",
    "\n",
    "# Total purchase value\n",
    "total_purchase_psn = purchase_count_group[\"Price\"].sum()\n",
    "\n",
    "#Average Purchase Price\n",
    "average_purchase_psn = total_purchase_psn / purchase_count_psn\n",
    "\n",
    "# Creating df and Formating information\n",
    "top_spender_analysis =  pd.DataFrame({\"Purchase Count\": purchase_count_psn,\n",
    "                                    \"Average Purchase Price\": average_purchase_psn,\n",
    "                                      \"Total Purchase Value\": total_purchase_psn})\n",
    "\n",
    "# Makes a df to show the top spenders by total purchase value\n",
    "top_spender_analysis_sorted = top_spender_analysis.sort_values(\"Total Purchase Value\", ascending=False)\n",
    "top_spender_analysis_sorted.style.format({'Average Purchase Price':\"${:.2f}\".format,\n",
    "                                           'Total Purchase Value': \"${:.2f}\".format})\n",
    "\n",
    "top_spender_analysis_sorted"
   ]
  },
  {
   "cell_type": "markdown",
   "metadata": {},
   "source": [
    "## Most Popular Items"
   ]
  },
  {
   "cell_type": "markdown",
   "metadata": {},
   "source": [
    "* Retrieve the Item ID, Item Name, and Item Price columns\n",
    "\n",
    "\n",
    "* Group by Item ID and Item Name. Perform calculations to obtain purchase count, average item price, and total purchase value\n",
    "\n",
    "\n",
    "* Create a summary data frame to hold the results\n",
    "\n",
    "\n",
    "* Sort the purchase count column in descending order\n",
    "\n",
    "* Sort the below table by total purchase value in descending order\n",
    "\n",
    "\n",
    "* Optional: give the displayed data cleaner formatting\n",
    "\n",
    "\n",
    "* Display a preview of the summary data frame\n",
    "\n"
   ]
  },
  {
   "cell_type": "code",
   "execution_count": 102,
   "metadata": {},
   "outputs": [
    {
     "data": {
      "text/html": [
       "<style  type=\"text/css\" >\n",
       "</style><table id=\"T_47ce018c_d56e_11eb_a9b9_a434d9ba1c3c\" ><thead>    <tr>        <th class=\"blank\" ></th>        <th class=\"blank level0\" ></th>        <th class=\"col_heading level0 col0\" >Purchase Count</th>        <th class=\"col_heading level0 col1\" >Average Purchase Price</th>        <th class=\"col_heading level0 col2\" >Total Purchase Value</th>    </tr>    <tr>        <th class=\"index_name level0\" >Item ID</th>        <th class=\"index_name level1\" >Item Name</th>        <th class=\"blank\" ></th>        <th class=\"blank\" ></th>        <th class=\"blank\" ></th>    </tr></thead><tbody>\n",
       "                <tr>\n",
       "                        <th id=\"T_47ce018c_d56e_11eb_a9b9_a434d9ba1c3clevel0_row0\" class=\"row_heading level0 row0\" >92</th>\n",
       "                        <th id=\"T_47ce018c_d56e_11eb_a9b9_a434d9ba1c3clevel1_row0\" class=\"row_heading level1 row0\" >Final Critic</th>\n",
       "                        <td id=\"T_47ce018c_d56e_11eb_a9b9_a434d9ba1c3crow0_col0\" class=\"data row0 col0\" >13</td>\n",
       "                        <td id=\"T_47ce018c_d56e_11eb_a9b9_a434d9ba1c3crow0_col1\" class=\"data row0 col1\" >$4.61</td>\n",
       "                        <td id=\"T_47ce018c_d56e_11eb_a9b9_a434d9ba1c3crow0_col2\" class=\"data row0 col2\" >$59.99</td>\n",
       "            </tr>\n",
       "            <tr>\n",
       "                        <th id=\"T_47ce018c_d56e_11eb_a9b9_a434d9ba1c3clevel0_row1\" class=\"row_heading level0 row1\" >178</th>\n",
       "                        <th id=\"T_47ce018c_d56e_11eb_a9b9_a434d9ba1c3clevel1_row1\" class=\"row_heading level1 row1\" >Oathbreaker, Last Hope of the Breaking Storm</th>\n",
       "                        <td id=\"T_47ce018c_d56e_11eb_a9b9_a434d9ba1c3crow1_col0\" class=\"data row1 col0\" >12</td>\n",
       "                        <td id=\"T_47ce018c_d56e_11eb_a9b9_a434d9ba1c3crow1_col1\" class=\"data row1 col1\" >$4.23</td>\n",
       "                        <td id=\"T_47ce018c_d56e_11eb_a9b9_a434d9ba1c3crow1_col2\" class=\"data row1 col2\" >$50.76</td>\n",
       "            </tr>\n",
       "            <tr>\n",
       "                        <th id=\"T_47ce018c_d56e_11eb_a9b9_a434d9ba1c3clevel0_row2\" class=\"row_heading level0 row2\" >145</th>\n",
       "                        <th id=\"T_47ce018c_d56e_11eb_a9b9_a434d9ba1c3clevel1_row2\" class=\"row_heading level1 row2\" >Fiery Glass Crusader</th>\n",
       "                        <td id=\"T_47ce018c_d56e_11eb_a9b9_a434d9ba1c3crow2_col0\" class=\"data row2 col0\" >9</td>\n",
       "                        <td id=\"T_47ce018c_d56e_11eb_a9b9_a434d9ba1c3crow2_col1\" class=\"data row2 col1\" >$4.58</td>\n",
       "                        <td id=\"T_47ce018c_d56e_11eb_a9b9_a434d9ba1c3crow2_col2\" class=\"data row2 col2\" >$41.22</td>\n",
       "            </tr>\n",
       "            <tr>\n",
       "                        <th id=\"T_47ce018c_d56e_11eb_a9b9_a434d9ba1c3clevel0_row3\" class=\"row_heading level0 row3\" >132</th>\n",
       "                        <th id=\"T_47ce018c_d56e_11eb_a9b9_a434d9ba1c3clevel1_row3\" class=\"row_heading level1 row3\" >Persuasion</th>\n",
       "                        <td id=\"T_47ce018c_d56e_11eb_a9b9_a434d9ba1c3crow3_col0\" class=\"data row3 col0\" >9</td>\n",
       "                        <td id=\"T_47ce018c_d56e_11eb_a9b9_a434d9ba1c3crow3_col1\" class=\"data row3 col1\" >$3.22</td>\n",
       "                        <td id=\"T_47ce018c_d56e_11eb_a9b9_a434d9ba1c3crow3_col2\" class=\"data row3 col2\" >$28.99</td>\n",
       "            </tr>\n",
       "            <tr>\n",
       "                        <th id=\"T_47ce018c_d56e_11eb_a9b9_a434d9ba1c3clevel0_row4\" class=\"row_heading level0 row4\" >108</th>\n",
       "                        <th id=\"T_47ce018c_d56e_11eb_a9b9_a434d9ba1c3clevel1_row4\" class=\"row_heading level1 row4\" >Extraction, Quickblade Of Trembling Hands</th>\n",
       "                        <td id=\"T_47ce018c_d56e_11eb_a9b9_a434d9ba1c3crow4_col0\" class=\"data row4 col0\" >9</td>\n",
       "                        <td id=\"T_47ce018c_d56e_11eb_a9b9_a434d9ba1c3crow4_col1\" class=\"data row4 col1\" >$3.53</td>\n",
       "                        <td id=\"T_47ce018c_d56e_11eb_a9b9_a434d9ba1c3crow4_col2\" class=\"data row4 col2\" >$31.77</td>\n",
       "            </tr>\n",
       "            <tr>\n",
       "                        <th id=\"T_47ce018c_d56e_11eb_a9b9_a434d9ba1c3clevel0_row5\" class=\"row_heading level0 row5\" >82</th>\n",
       "                        <th id=\"T_47ce018c_d56e_11eb_a9b9_a434d9ba1c3clevel1_row5\" class=\"row_heading level1 row5\" >Nirvana</th>\n",
       "                        <td id=\"T_47ce018c_d56e_11eb_a9b9_a434d9ba1c3crow5_col0\" class=\"data row5 col0\" >9</td>\n",
       "                        <td id=\"T_47ce018c_d56e_11eb_a9b9_a434d9ba1c3crow5_col1\" class=\"data row5 col1\" >$4.90</td>\n",
       "                        <td id=\"T_47ce018c_d56e_11eb_a9b9_a434d9ba1c3crow5_col2\" class=\"data row5 col2\" >$44.10</td>\n",
       "            </tr>\n",
       "            <tr>\n",
       "                        <th id=\"T_47ce018c_d56e_11eb_a9b9_a434d9ba1c3clevel0_row6\" class=\"row_heading level0 row6\" >75</th>\n",
       "                        <th id=\"T_47ce018c_d56e_11eb_a9b9_a434d9ba1c3clevel1_row6\" class=\"row_heading level1 row6\" >Brutality Ivory Warmace</th>\n",
       "                        <td id=\"T_47ce018c_d56e_11eb_a9b9_a434d9ba1c3crow6_col0\" class=\"data row6 col0\" >8</td>\n",
       "                        <td id=\"T_47ce018c_d56e_11eb_a9b9_a434d9ba1c3crow6_col1\" class=\"data row6 col1\" >$2.42</td>\n",
       "                        <td id=\"T_47ce018c_d56e_11eb_a9b9_a434d9ba1c3crow6_col2\" class=\"data row6 col2\" >$19.36</td>\n",
       "            </tr>\n",
       "            <tr>\n",
       "                        <th id=\"T_47ce018c_d56e_11eb_a9b9_a434d9ba1c3clevel0_row7\" class=\"row_heading level0 row7\" >103</th>\n",
       "                        <th id=\"T_47ce018c_d56e_11eb_a9b9_a434d9ba1c3clevel1_row7\" class=\"row_heading level1 row7\" >Singed Scalpel</th>\n",
       "                        <td id=\"T_47ce018c_d56e_11eb_a9b9_a434d9ba1c3crow7_col0\" class=\"data row7 col0\" >8</td>\n",
       "                        <td id=\"T_47ce018c_d56e_11eb_a9b9_a434d9ba1c3crow7_col1\" class=\"data row7 col1\" >$4.35</td>\n",
       "                        <td id=\"T_47ce018c_d56e_11eb_a9b9_a434d9ba1c3crow7_col2\" class=\"data row7 col2\" >$34.80</td>\n",
       "            </tr>\n",
       "            <tr>\n",
       "                        <th id=\"T_47ce018c_d56e_11eb_a9b9_a434d9ba1c3clevel0_row8\" class=\"row_heading level0 row8\" >34</th>\n",
       "                        <th id=\"T_47ce018c_d56e_11eb_a9b9_a434d9ba1c3clevel1_row8\" class=\"row_heading level1 row8\" >Retribution Axe</th>\n",
       "                        <td id=\"T_47ce018c_d56e_11eb_a9b9_a434d9ba1c3crow8_col0\" class=\"data row8 col0\" >8</td>\n",
       "                        <td id=\"T_47ce018c_d56e_11eb_a9b9_a434d9ba1c3crow8_col1\" class=\"data row8 col1\" >$2.22</td>\n",
       "                        <td id=\"T_47ce018c_d56e_11eb_a9b9_a434d9ba1c3crow8_col2\" class=\"data row8 col2\" >$17.76</td>\n",
       "            </tr>\n",
       "            <tr>\n",
       "                        <th id=\"T_47ce018c_d56e_11eb_a9b9_a434d9ba1c3clevel0_row9\" class=\"row_heading level0 row9\" >37</th>\n",
       "                        <th id=\"T_47ce018c_d56e_11eb_a9b9_a434d9ba1c3clevel1_row9\" class=\"row_heading level1 row9\" >Shadow Strike, Glory of Ending Hope</th>\n",
       "                        <td id=\"T_47ce018c_d56e_11eb_a9b9_a434d9ba1c3crow9_col0\" class=\"data row9 col0\" >8</td>\n",
       "                        <td id=\"T_47ce018c_d56e_11eb_a9b9_a434d9ba1c3crow9_col1\" class=\"data row9 col1\" >$3.16</td>\n",
       "                        <td id=\"T_47ce018c_d56e_11eb_a9b9_a434d9ba1c3crow9_col2\" class=\"data row9 col2\" >$25.28</td>\n",
       "            </tr>\n",
       "    </tbody></table>"
      ],
      "text/plain": [
       "<pandas.io.formats.style.Styler at 0x238c47cf988>"
      ]
     },
     "execution_count": 102,
     "metadata": {},
     "output_type": "execute_result"
    }
   ],
   "source": [
    "# Creating a new list to work with\n",
    "popular_items_list = purchase_data[[\"Item ID\", \"Item Name\", \"Price\"]]\n",
    "\n",
    "# Grouping new list by Item ID and Item Name\n",
    "popular_items_group = popular_items_list.groupby([\"Item ID\",\"Item Name\"])\n",
    "\n",
    "\n",
    "# Purchase count\n",
    "popular_count = popular_items_group[\"Price\"].count()\n",
    "\n",
    "# Total Purchase Value\n",
    "purchase_value = popular_items_group[\"Price\"].sum()\n",
    "\n",
    "# Average item price\n",
    "item_value = purchase_value / popular_count\n",
    "\n",
    "most_popular_items_df = pd.DataFrame({\"Purchase Count\": popular_count,\n",
    "                                    \"Average Purchase Price\": item_value,\n",
    "                                      \"Total Purchase Value\": purchase_value})\n",
    "\n",
    "most_popular_items_sorted = most_popular_items_df.sort_values(\"Purchase Count\", ascending=False)\n",
    "most_popular_items_sorted.head(10).style.format({'Average Purchase Price':\"${:.2f}\".format,\n",
    "                                           'Total Purchase Value': \"${:.2f}\".format})\n"
   ]
  }
 ],
 "metadata": {
  "anaconda-cloud": {},
  "kernel_info": {
   "name": "python3"
  },
  "kernelspec": {
   "display_name": "Python 3",
   "language": "python",
   "name": "python3"
  },
  "language_info": {
   "codemirror_mode": {
    "name": "ipython",
    "version": 3
   },
   "file_extension": ".py",
   "mimetype": "text/x-python",
   "name": "python",
   "nbconvert_exporter": "python",
   "pygments_lexer": "ipython3",
   "version": "3.7.6"
  },
  "latex_envs": {
   "LaTeX_envs_menu_present": true,
   "autoclose": false,
   "autocomplete": true,
   "bibliofile": "biblio.bib",
   "cite_by": "apalike",
   "current_citInitial": 1,
   "eqLabelWithNumbers": true,
   "eqNumInitial": 1,
   "hotkeys": {
    "equation": "Ctrl-E",
    "itemize": "Ctrl-I"
   },
   "labels_anchors": false,
   "latex_user_defs": false,
   "report_style_numbering": false,
   "user_envs_cfg": false
  },
  "nteract": {
   "version": "0.2.0"
  }
 },
 "nbformat": 4,
 "nbformat_minor": 4
}
