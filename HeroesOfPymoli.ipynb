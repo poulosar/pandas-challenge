{
 "cells": [
  {
   "cell_type": "markdown",
   "metadata": {},
   "source": [
    "### Note\n",
    "* Instructions have been included for each segment. You do not have to follow them exactly, but they are included to help you think through the steps."
   ]
  },
  {
   "cell_type": "code",
   "execution_count": 462,
   "metadata": {},
   "outputs": [
    {
     "data": {
      "text/plain": [
       "Purchase ID      int64\n",
       "SN              object\n",
       "Age              int64\n",
       "Gender          object\n",
       "Item ID          int64\n",
       "Item Name       object\n",
       "Price          float64\n",
       "dtype: object"
      ]
     },
     "execution_count": 462,
     "metadata": {},
     "output_type": "execute_result"
    }
   ],
   "source": [
    "# Dependencies and Setup\n",
    "import pandas as pd\n",
    "\n",
    "# setting file, reading and storing as a data_frame\n",
    "input = \"Resources/purchase_data.csv\"\n",
    "\n",
    "purchase_data = pd.read_csv(input)\n",
    "purchase_data.dtypes"
   ]
  },
  {
   "cell_type": "markdown",
   "metadata": {},
   "source": [
    "## Player Count"
   ]
  },
  {
   "cell_type": "markdown",
   "metadata": {},
   "source": [
    "* Display the total number of players\n"
   ]
  },
  {
   "cell_type": "code",
   "execution_count": 449,
   "metadata": {},
   "outputs": [
    {
     "data": {
      "text/html": [
       "<style  type=\"text/css\" >\n",
       "</style><table id=\"T_0f108398_d303_11eb_9af3_a434d9ba1c3c\" ><thead>    <tr>        <th class=\"col_heading level0 col0\" >Total Players</th>    </tr></thead><tbody>\n",
       "                <tr>\n",
       "                                <td id=\"T_0f108398_d303_11eb_9af3_a434d9ba1c3crow0_col0\" class=\"data row0 col0\" >576</td>\n",
       "            </tr>\n",
       "    </tbody></table>"
      ],
      "text/plain": [
       "<pandas.io.formats.style.Styler at 0x1eff1a88d48>"
      ]
     },
     "execution_count": 449,
     "metadata": {},
     "output_type": "execute_result"
    }
   ],
   "source": [
    "# Uses current df to find unique SN's and save them to player_count_df. Then we find the length of the new df for total players\n",
    "# This removes all duplicate SN's\n",
    "player_count = len(purchase_data[\"SN\"].unique())\n",
    "\n",
    "#Creates total_players df with column \"Total Players\" with the player count above being the row data\n",
    "total_players_df = pd.DataFrame({\"Total Players\": [player_count]})\n",
    "#Prints df and hides index\n",
    "total_players_df.style.hide_index()"
   ]
  },
  {
   "cell_type": "markdown",
   "metadata": {},
   "source": [
    "## Purchasing Analysis (Total)"
   ]
  },
  {
   "cell_type": "markdown",
   "metadata": {},
   "source": [
    "* Run basic calculations to obtain number of unique items, average price, etc.\n",
    "\n",
    "\n",
    "* Create a summary data frame to hold the results\n",
    "\n",
    "\n",
    "* Optional: give the displayed data cleaner formatting\n",
    "\n",
    "\n",
    "* Display the summary data frame\n"
   ]
  },
  {
   "cell_type": "code",
   "execution_count": 450,
   "metadata": {},
   "outputs": [
    {
     "data": {
      "text/html": [
       "<style  type=\"text/css\" >\n",
       "</style><table id=\"T_0febe9e8_d303_11eb_8241_a434d9ba1c3c\" ><thead>    <tr>        <th class=\"col_heading level0 col0\" >Unique Items</th>        <th class=\"col_heading level0 col1\" >Average Price</th>        <th class=\"col_heading level0 col2\" >Average Age</th>        <th class=\"col_heading level0 col3\" >Most Popular Item</th>    </tr></thead><tbody>\n",
       "                <tr>\n",
       "                                <td id=\"T_0febe9e8_d303_11eb_8241_a434d9ba1c3crow0_col0\" class=\"data row0 col0\" >179</td>\n",
       "                        <td id=\"T_0febe9e8_d303_11eb_8241_a434d9ba1c3crow0_col1\" class=\"data row0 col1\" >3.05098718</td>\n",
       "                        <td id=\"T_0febe9e8_d303_11eb_8241_a434d9ba1c3crow0_col2\" class=\"data row0 col2\" >22.71410256</td>\n",
       "                        <td id=\"T_0febe9e8_d303_11eb_8241_a434d9ba1c3crow0_col3\" class=\"data row0 col3\" >Final Critic</td>\n",
       "            </tr>\n",
       "    </tbody></table>"
      ],
      "text/plain": [
       "<pandas.io.formats.style.Styler at 0x1eff1af02c8>"
      ]
     },
     "execution_count": 450,
     "metadata": {},
     "output_type": "execute_result"
    }
   ],
   "source": [
    "# Number of unique items\n",
    "unique_items = len(purchase_data[\"Item Name\"].unique())\n",
    "int(unique_items)\n",
    "\n",
    "# Average price per item\n",
    "average = purchase_data[{\"Price\"}].mean()\n",
    "average_price\n",
    "average_price.reset_index(drop=True, inplace=True)\n",
    "\n",
    "# Average age\n",
    "average_age = purchase_data[{\"Age\"}].mean()\n",
    "average_age.reset_index(drop=True, inplace=True)\n",
    "\n",
    "# Most popular item(s)\n",
    "most_popular = purchase_data[\"Item Name\"].mode()\n",
    "most_popular\n",
    "\n",
    "#Table to sotre above info\n",
    "analysis_df = pd.DataFrame({\"Unique Items\": unique_items, \"Average Price\": average_price,\n",
    "                            \"Average Age\": average_age, \"Most Popular Item\": most_popular})\n",
    "#Set all float values to 2 decimal places\n",
    "pd.options.display.float_format = \"{:,.2f}\".format\n",
    "analysis_df.style.hide_index()"
   ]
  },
  {
   "cell_type": "markdown",
   "metadata": {},
   "source": [
    "## Gender Demographics"
   ]
  },
  {
   "cell_type": "markdown",
   "metadata": {},
   "source": [
    "* Percentage and Count of Male Players\n",
    "\n",
    "\n",
    "* Percentage and Count of Female Players\n",
    "\n",
    "\n",
    "* Percentage and Count of Other / Non-Disclosed\n",
    "\n",
    "\n"
   ]
  },
  {
   "cell_type": "code",
   "execution_count": 498,
   "metadata": {},
   "outputs": [
    {
     "data": {
      "text/html": [
       "<style  type=\"text/css\" >\n",
       "</style><table id=\"T_efae19ec_d309_11eb_8761_a434d9ba1c3c\" ><thead>    <tr>        <th class=\"col_heading level0 col0\" >Gender</th>        <th class=\"col_heading level0 col1\" >Total of Gender</th>        <th class=\"col_heading level0 col2\" >Percentage</th>    </tr></thead><tbody>\n",
       "                <tr>\n",
       "                                <td id=\"T_efae19ec_d309_11eb_8761_a434d9ba1c3crow0_col0\" class=\"data row0 col0\" >Male</td>\n",
       "                        <td id=\"T_efae19ec_d309_11eb_8761_a434d9ba1c3crow0_col1\" class=\"data row0 col1\" >484</td>\n",
       "                        <td id=\"T_efae19ec_d309_11eb_8761_a434d9ba1c3crow0_col2\" class=\"data row0 col2\" >84.03%</td>\n",
       "            </tr>\n",
       "            <tr>\n",
       "                                <td id=\"T_efae19ec_d309_11eb_8761_a434d9ba1c3crow1_col0\" class=\"data row1 col0\" >Female</td>\n",
       "                        <td id=\"T_efae19ec_d309_11eb_8761_a434d9ba1c3crow1_col1\" class=\"data row1 col1\" >81</td>\n",
       "                        <td id=\"T_efae19ec_d309_11eb_8761_a434d9ba1c3crow1_col2\" class=\"data row1 col2\" >14.06%</td>\n",
       "            </tr>\n",
       "            <tr>\n",
       "                                <td id=\"T_efae19ec_d309_11eb_8761_a434d9ba1c3crow2_col0\" class=\"data row2 col0\" >Other / Non-Disclosed</td>\n",
       "                        <td id=\"T_efae19ec_d309_11eb_8761_a434d9ba1c3crow2_col1\" class=\"data row2 col1\" >11</td>\n",
       "                        <td id=\"T_efae19ec_d309_11eb_8761_a434d9ba1c3crow2_col2\" class=\"data row2 col2\" >1.91%</td>\n",
       "            </tr>\n",
       "    </tbody></table>"
      ],
      "text/plain": [
       "<pandas.io.formats.style.Styler at 0x1eff19d5608>"
      ]
     },
     "execution_count": 498,
     "metadata": {},
     "output_type": "execute_result"
    }
   ],
   "source": [
    "# Percentage and Count of Males\n",
    "males = purchase_data.loc[purchase_data[\"Gender\"] == \"Male\", :]\n",
    "male_count = len(males[\"SN\"].unique())\n",
    "male_percentage = \"{:.2f}%\".format((male_count/player_count*100), 2)\n",
    "male_percentage\n",
    "\n",
    "females = purchase_data.loc[purchase_data[\"Gender\"] == \"Female\", :]\n",
    "female_count = len(females[\"SN\"].unique())\n",
    "female_percentage = \"{:.2f}%\".format((female_count/player_count*100), 2)\n",
    "female_percentage\n",
    "\n",
    "other = purchase_data.loc[purchase_data[\"Gender\"] == \"Other / Non-Disclosed\", :]\n",
    "other_count = len(other[\"SN\"].unique())\n",
    "other_percentage = \"{:.2f}%\".format(((other_count/player_count)*100), 2)\n",
    "other_percentage\n",
    "\n",
    "gender_demographic = pd.DataFrame({\"Gender\": [\"Male\",\"Female\",\"Other / Non-Disclosed\"],\n",
    "                                   \"Total of Gender\": [male_count, female_count, other_count] , \n",
    "                                   \"Percentage\": [male_percentage, female_percentage, other_percentage]})\n",
    "                                   \n",
    "gender_demographic.style.hide_index()"
   ]
  },
  {
   "cell_type": "markdown",
   "metadata": {},
   "source": [
    "\n",
    "## Purchasing Analysis (Gender)"
   ]
  },
  {
   "cell_type": "markdown",
   "metadata": {},
   "source": [
    "* Run basic calculations to obtain purchase count, avg. purchase price, avg. purchase total per person etc. by gender\n",
    "\n",
    "\n",
    "\n",
    "\n",
    "* Create a summary data frame to hold the results\n",
    "\n",
    "\n",
    "* Optional: give the displayed data cleaner formatting\n",
    "\n",
    "\n",
    "* Display the summary data frame"
   ]
  },
  {
   "cell_type": "code",
   "execution_count": 519,
   "metadata": {},
   "outputs": [
    {
     "data": {
      "text/html": [
       "<style  type=\"text/css\" >\n",
       "</style><table id=\"T_2ebff364_d30c_11eb_a461_a434d9ba1c3c\" ><thead>    <tr>        <th class=\"blank level0\" ></th>        <th class=\"col_heading level0 col0\" >Gender</th>        <th class=\"col_heading level0 col1\" >Purchase Count</th>        <th class=\"col_heading level0 col2\" >Average Purchase Price</th>        <th class=\"col_heading level0 col3\" >Total Purchase Value</th>        <th class=\"col_heading level0 col4\" >Avg Purchase per Person</th>    </tr></thead><tbody>\n",
       "                <tr>\n",
       "                        <th id=\"T_2ebff364_d30c_11eb_a461_a434d9ba1c3clevel0_row0\" class=\"row_heading level0 row0\" >2</th>\n",
       "                        <td id=\"T_2ebff364_d30c_11eb_a461_a434d9ba1c3crow0_col0\" class=\"data row0 col0\" >Other / Non-Disclosed</td>\n",
       "                        <td id=\"T_2ebff364_d30c_11eb_a461_a434d9ba1c3crow0_col1\" class=\"data row0 col1\" >15</td>\n",
       "                        <td id=\"T_2ebff364_d30c_11eb_a461_a434d9ba1c3crow0_col2\" class=\"data row0 col2\" >$3.35</td>\n",
       "                        <td id=\"T_2ebff364_d30c_11eb_a461_a434d9ba1c3crow0_col3\" class=\"data row0 col3\" >$50.19</td>\n",
       "                        <td id=\"T_2ebff364_d30c_11eb_a461_a434d9ba1c3crow0_col4\" class=\"data row0 col4\" >$4.56</td>\n",
       "            </tr>\n",
       "            <tr>\n",
       "                        <th id=\"T_2ebff364_d30c_11eb_a461_a434d9ba1c3clevel0_row1\" class=\"row_heading level0 row1\" >1</th>\n",
       "                        <td id=\"T_2ebff364_d30c_11eb_a461_a434d9ba1c3crow1_col0\" class=\"data row1 col0\" >Female</td>\n",
       "                        <td id=\"T_2ebff364_d30c_11eb_a461_a434d9ba1c3crow1_col1\" class=\"data row1 col1\" >113</td>\n",
       "                        <td id=\"T_2ebff364_d30c_11eb_a461_a434d9ba1c3crow1_col2\" class=\"data row1 col2\" >$3.20</td>\n",
       "                        <td id=\"T_2ebff364_d30c_11eb_a461_a434d9ba1c3crow1_col3\" class=\"data row1 col3\" >$361.94</td>\n",
       "                        <td id=\"T_2ebff364_d30c_11eb_a461_a434d9ba1c3crow1_col4\" class=\"data row1 col4\" >$4.47</td>\n",
       "            </tr>\n",
       "            <tr>\n",
       "                        <th id=\"T_2ebff364_d30c_11eb_a461_a434d9ba1c3clevel0_row2\" class=\"row_heading level0 row2\" >0</th>\n",
       "                        <td id=\"T_2ebff364_d30c_11eb_a461_a434d9ba1c3crow2_col0\" class=\"data row2 col0\" >Male</td>\n",
       "                        <td id=\"T_2ebff364_d30c_11eb_a461_a434d9ba1c3crow2_col1\" class=\"data row2 col1\" >652</td>\n",
       "                        <td id=\"T_2ebff364_d30c_11eb_a461_a434d9ba1c3crow2_col2\" class=\"data row2 col2\" >$3.02</td>\n",
       "                        <td id=\"T_2ebff364_d30c_11eb_a461_a434d9ba1c3crow2_col3\" class=\"data row2 col3\" >$1967.64</td>\n",
       "                        <td id=\"T_2ebff364_d30c_11eb_a461_a434d9ba1c3crow2_col4\" class=\"data row2 col4\" >$4.07</td>\n",
       "            </tr>\n",
       "    </tbody></table>"
      ],
      "text/plain": [
       "<pandas.io.formats.style.Styler at 0x1eff1aee1c8>"
      ]
     },
     "execution_count": 519,
     "metadata": {},
     "output_type": "execute_result"
    }
   ],
   "source": [
    "# Male, Female, and other gender purchase counts\n",
    "male_purchase = purchase_data.loc[purchase_data[\"Gender\"] == \"Male\"]\n",
    "purchase_count_male = len(male_purchase)\n",
    "\n",
    "Female_purchase = purchase_data.loc[purchase_data[\"Gender\"] == \"Female\"]\n",
    "purchase_count_Female = len(Female_purchase)\n",
    "\n",
    "other_purchase = purchase_data.loc[purchase_data[\"Gender\"] == \"Other / Non-Disclosed\"]\n",
    "purchase_count_other = len(other_purchase)\n",
    "\n",
    "#Male, Female, and other gender avg. purchase price (Total amount / total products) - PER GENDER\n",
    "male_purchase_price = purchase_data.loc[purchase_data[\"Gender\"] == \"Male\", [\"Price\"]]\n",
    "male_avg_purchase = float(male_purchase_price.sum()/purchase_count_male)\n",
    "\n",
    "female_purchase_price = purchase_data.loc[purchase_data[\"Gender\"] == \"Female\", [\"Price\"]]\n",
    "female_avg_purchase = float(female_purchase_price.sum()/purchase_count_female)\n",
    "\n",
    "other_purchase_price = purchase_data.loc[purchase_data[\"Gender\"] == \"Other / Non-Disclosed\", [\"Price\"]]\n",
    "other_avg_purchase = float(other_purchase_price.sum()/purchase_count_other)\n",
    "other_avg_purchase\n",
    "\n",
    "# Male, Female, and Other gender purchase per person \"pp\"\n",
    "male_purchase_pp = male_purchase_price.sum() / male_count\n",
    "female_purchase_pp = female_purchase_price.sum() / female_count\n",
    "other_purchase_pp = other_purchase_price.sum() / other_count\n",
    "\n",
    "# Creating dataframe with correct columns and data, will sort and format later\n",
    "gender_purchase_analysis = pd.DataFrame({\"Gender\": [\"Male\",\"Female\",\"Other / Non-Disclosed\"],\n",
    "                                    \"Purchase Count\": [purchase_count_male, purchase_count_Female, purchase_count_other],\n",
    "                                    \"Average Purchase Price\": [male_avg_purchase, female_avg_purchase, other_avg_purchase],\n",
    "                                    \"Total Purchase Value\": [float(male_purchase_price.sum()), float(female_purchase_price.sum()), float(other_purchase_price.sum())],\n",
    "                                    \"Avg Purchase per Person\": [float(male_purchase_pp), float(female_purchase_pp), float(other_purchase_pp)]})\n",
    "# Sorted by Average purchase price per person.\n",
    "gender_purchase_analysis\n",
    "gender_purchase_analysis = gender_purchase_analysis.sort_values(\"Avg Purchase per Person\", ascending=False)\n",
    "gender_purchase_analysis.style.format({'Average Purchase Price': \"${:.2f}\".format, 'Total Purchase Value': \"${:.2f}\".format, \"Avg Purchase per Person\": \"${:.2f}\".format })"
   ]
  },
  {
   "cell_type": "markdown",
   "metadata": {},
   "source": [
    "\n",
    "## Age Demographics"
   ]
  },
  {
   "cell_type": "markdown",
   "metadata": {},
   "source": [
    "* Establish bins for ages\n",
    "\n",
    "\n",
    "* Categorize the existing players using the age bins. Hint: use pd.cut()\n",
    "\n",
    "\n",
    "* Calculate the numbers and percentages by age group\n",
    "\n",
    "\n",
    "* Create a summary data frame to hold the results\n",
    "\n",
    "\n",
    "* Optional: round the percentage column to two decimal points\n",
    "\n",
    "\n",
    "* Display Age Demographics Table\n"
   ]
  },
  {
   "cell_type": "code",
   "execution_count": 463,
   "metadata": {},
   "outputs": [
    {
     "data": {
      "text/html": [
       "<div>\n",
       "<style scoped>\n",
       "    .dataframe tbody tr th:only-of-type {\n",
       "        vertical-align: middle;\n",
       "    }\n",
       "\n",
       "    .dataframe tbody tr th {\n",
       "        vertical-align: top;\n",
       "    }\n",
       "\n",
       "    .dataframe thead th {\n",
       "        text-align: right;\n",
       "    }\n",
       "</style>\n",
       "<table border=\"1\" class=\"dataframe\">\n",
       "  <thead>\n",
       "    <tr style=\"text-align: right;\">\n",
       "      <th></th>\n",
       "      <th>mean</th>\n",
       "      <th>sum</th>\n",
       "    </tr>\n",
       "    <tr>\n",
       "      <th>Gender</th>\n",
       "      <th></th>\n",
       "      <th></th>\n",
       "    </tr>\n",
       "  </thead>\n",
       "  <tbody>\n",
       "    <tr>\n",
       "      <th>Female</th>\n",
       "      <td>3.20</td>\n",
       "      <td>361.94</td>\n",
       "    </tr>\n",
       "    <tr>\n",
       "      <th>Male</th>\n",
       "      <td>3.02</td>\n",
       "      <td>1,967.64</td>\n",
       "    </tr>\n",
       "    <tr>\n",
       "      <th>Other / Non-Disclosed</th>\n",
       "      <td>3.35</td>\n",
       "      <td>50.19</td>\n",
       "    </tr>\n",
       "  </tbody>\n",
       "</table>\n",
       "</div>"
      ],
      "text/plain": [
       "                       mean      sum\n",
       "Gender                              \n",
       "Female                 3.20   361.94\n",
       "Male                   3.02 1,967.64\n",
       "Other / Non-Disclosed  3.35    50.19"
      ]
     },
     "execution_count": 463,
     "metadata": {},
     "output_type": "execute_result"
    }
   ],
   "source": [
    "\n"
   ]
  },
  {
   "cell_type": "markdown",
   "metadata": {},
   "source": [
    "## Purchasing Analysis (Age)"
   ]
  },
  {
   "cell_type": "markdown",
   "metadata": {},
   "source": [
    "* Bin the purchase_data data frame by age\n",
    "\n",
    "\n",
    "* Run basic calculations to obtain purchase count, avg. purchase price, avg. purchase total per person etc. in the table below\n",
    "\n",
    "\n",
    "* Create a summary data frame to hold the results\n",
    "\n",
    "\n",
    "* Optional: give the displayed data cleaner formatting\n",
    "\n",
    "\n",
    "* Display the summary data frame"
   ]
  },
  {
   "cell_type": "code",
   "execution_count": null,
   "metadata": {},
   "outputs": [],
   "source": []
  },
  {
   "cell_type": "markdown",
   "metadata": {},
   "source": [
    "## Top Spenders"
   ]
  },
  {
   "cell_type": "markdown",
   "metadata": {},
   "source": [
    "* Run basic calculations to obtain the results in the table below\n",
    "\n",
    "\n",
    "* Create a summary data frame to hold the results\n",
    "\n",
    "\n",
    "* Sort the total purchase value column in descending order\n",
    "\n",
    "\n",
    "* Optional: give the displayed data cleaner formatting\n",
    "\n",
    "\n",
    "* Display a preview of the summary data frame\n",
    "\n"
   ]
  },
  {
   "cell_type": "code",
   "execution_count": null,
   "metadata": {},
   "outputs": [],
   "source": []
  },
  {
   "cell_type": "markdown",
   "metadata": {},
   "source": [
    "## Most Popular Items"
   ]
  },
  {
   "cell_type": "markdown",
   "metadata": {},
   "source": [
    "* Retrieve the Item ID, Item Name, and Item Price columns\n",
    "\n",
    "\n",
    "* Group by Item ID and Item Name. Perform calculations to obtain purchase count, average item price, and total purchase value\n",
    "\n",
    "\n",
    "* Create a summary data frame to hold the results\n",
    "\n",
    "\n",
    "* Sort the purchase count column in descending order\n",
    "\n",
    "\n",
    "* Optional: give the displayed data cleaner formatting\n",
    "\n",
    "\n",
    "* Display a preview of the summary data frame\n",
    "\n"
   ]
  },
  {
   "cell_type": "code",
   "execution_count": null,
   "metadata": {},
   "outputs": [],
   "source": []
  },
  {
   "cell_type": "markdown",
   "metadata": {},
   "source": [
    "## Most Profitable Items"
   ]
  },
  {
   "cell_type": "markdown",
   "metadata": {},
   "source": [
    "* Sort the above table by total purchase value in descending order\n",
    "\n",
    "\n",
    "* Optional: give the displayed data cleaner formatting\n",
    "\n",
    "\n",
    "* Display a preview of the data frame\n",
    "\n"
   ]
  },
  {
   "cell_type": "code",
   "execution_count": null,
   "metadata": {
    "scrolled": true
   },
   "outputs": [],
   "source": []
  }
 ],
 "metadata": {
  "anaconda-cloud": {},
  "kernel_info": {
   "name": "python3"
  },
  "kernelspec": {
   "display_name": "Python 3",
   "language": "python",
   "name": "python3"
  },
  "language_info": {
   "codemirror_mode": {
    "name": "ipython",
    "version": 3
   },
   "file_extension": ".py",
   "mimetype": "text/x-python",
   "name": "python",
   "nbconvert_exporter": "python",
   "pygments_lexer": "ipython3",
   "version": "3.7.6"
  },
  "latex_envs": {
   "LaTeX_envs_menu_present": true,
   "autoclose": false,
   "autocomplete": true,
   "bibliofile": "biblio.bib",
   "cite_by": "apalike",
   "current_citInitial": 1,
   "eqLabelWithNumbers": true,
   "eqNumInitial": 1,
   "hotkeys": {
    "equation": "Ctrl-E",
    "itemize": "Ctrl-I"
   },
   "labels_anchors": false,
   "latex_user_defs": false,
   "report_style_numbering": false,
   "user_envs_cfg": false
  },
  "nteract": {
   "version": "0.2.0"
  }
 },
 "nbformat": 4,
 "nbformat_minor": 4
}
